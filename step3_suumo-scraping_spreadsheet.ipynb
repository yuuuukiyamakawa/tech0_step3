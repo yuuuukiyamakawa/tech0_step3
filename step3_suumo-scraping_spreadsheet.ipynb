{
 "cells": [
  {
   "cell_type": "code",
   "execution_count": 480,
   "metadata": {},
   "outputs": [],
   "source": [
    "# SUUMOの物件情報を自動取得（スクレイピング）したのでコードを解説する。 https://qiita.com/tomyu/items/a08d3180b7cbe63667c9\n",
    "# SUUMOのデータを前処理したので解説する。 https://qiita.com/tomyu/items/e039bcf2a44ad2e83b94\n",
    "# SUUMOの前処理でもう少し手を加えたので解説する。 https://qiita.com/tomyu/items/ba376faa7a7939941eee"
   ]
  },
  {
   "cell_type": "code",
   "execution_count": 31,
   "metadata": {},
   "outputs": [],
   "source": [
    "# ライブラリのインポート\n",
    "import requests\n",
    "from bs4 import BeautifulSoup\n",
    "from time import sleep\n",
    "import pandas as pd\n",
    "import re  # 正規表現の使用\n",
    "\n",
    "import gspread\n",
    "from oauth2client.service_account import ServiceAccountCredentials\n",
    "\n",
    "from dotenv import load_dotenv  # 環境変数の読み込みに使用。https://chat.openai.com/share/f6530203-f855-42b2-9488-089cc957dc63  # Pythonで.envファイルから環境変数を設定する https://qiita.com/wooooo/items/7b57eaf32c22195df843\n",
    "import os  # Pythonの標準ライブラリの一部で、オペレーティングシステムに関連する機能を提供します。os.getenv はその中の一つの関数です。https://chat.openai.com/share/c3ef4fc3-51bf-4063-87f8-6c1cf65e5bfd"
   ]
  },
  {
   "cell_type": "code",
   "execution_count": 32,
   "metadata": {},
   "outputs": [
    {
     "data": {
      "text/plain": [
       "True"
      ]
     },
     "execution_count": 32,
     "metadata": {},
     "output_type": "execute_result"
    }
   ],
   "source": [
    "# 環境変数の読み込み\n",
    "load_dotenv()"
   ]
  },
  {
   "cell_type": "code",
   "execution_count": 33,
   "metadata": {},
   "outputs": [],
   "source": [
    "# 使用するGoogleSheetsAPI、GoogleDriveAPI情報の指定\n",
    "SCOPES = [\n",
    "    'https://spreadsheets.google.com/feeds',\n",
    "    'https://www.googleapis.com/auth/drive'\n",
    "]\n",
    "\n",
    "# 秘密鍵のjsonファイルを指定\n",
    "SEVICE_ACCOUNT_FILE = os.getenv('SEVICE_ACCOUNT_FILE')\n",
    "\n",
    "# 認証情報を作成\n",
    "credentials = ServiceAccountCredentials.from_json_keyfile_name(SEVICE_ACCOUNT_FILE, SCOPES)\n",
    "\n",
    "# スプレッドシートの操作権を取得\n",
    "gs = gspread.authorize(credentials)\n",
    "\n",
    "# 編集するスプレッドシートとワークシートの指定\n",
    "SPREADSHEET_KEY = os.getenv('SPREADSHEET_KEY')\n",
    "workbook = gs.open_by_key(SPREADSHEET_KEY)\n",
    "worksheet = workbook.worksheet(\"シート1\")"
   ]
  },
  {
   "cell_type": "code",
   "execution_count": 34,
   "metadata": {},
   "outputs": [],
   "source": [
    "# 関数の定義\n",
    "\n",
    "# 文字+数字+文字 → 文字\n",
    "def objnumobj_num(x):\n",
    "    return re.sub(r'\\w+?([0-9]+)\\w+',r'\\1',x)\n",
    "    # re.sub()は、第一引数に正規表現パターン、第二引数に置換先文字列、第三引数に処理対象の文字列を指定。https://note.nkmk.me/python-str-replace-translate-re-sub/#resub-resubn\n",
    "    # r''は\"\\\"を特殊シーケンスとして認識させるために必要なもの。\n",
    "    # \\wは、任意の英数字で、「1, 2, 333, 12aa, ab」などのこと。漢字にも使えている。☛ なぜ漢字は/Wではないのか？https://chat.openai.com/share/6f7b2fd9-26a1-49da-bf35-501d4649b6fd\n",
    "    # +?は直前のパターンを1回以上繰り返す、という意味なので、\"\\w+?\"で「1文字以上の英数字」を表す。\n",
    "    # +は直前のパターンを1回以上繰り返す、という意味なので、\"([0-9]+)\"は「1文字以上の数字」を表す。また、([0-9]+)の()はキャプチャグループ化を意味する。\n",
    "    # \"\\1\"は1番目のキャプチャグループを意味する。つまり、ココでは([0-9]+)になる。https://chat.openai.com/share/e08ae899-4426-48df-aaf6-bdf78e87fd9e\n",
    "\n",
    "# 5万円 → 5\n",
    "def drop_man(x):\n",
    "    return re.sub(r'([0-9]+)万円+',r'\\1',x)\n",
    "    # 万円を\"\\w+\"にすると、31.2万円 → 3.2。32.2 → 3.2になる。なぜ？\n",
    "\n",
    "# 数字+文字 → 文字\n",
    "def numobj_num(x):\n",
    "    return re.sub(r'([0-9]+)\\w+',r'\\1',x)\n",
    "# ([0-9]+)\\w+は、1文字以上の数字＋1文字以上の英数字。\"\\1\"は1番目のキャプチャグループを返す。\n",
    "\n",
    "# 英字以降を切り落とし\n",
    "def drop_behind_alfa(x):\n",
    "    return re.sub('[a-z]\\w+','',x)\n",
    "\n",
    "# 文字列の検索。返り値はTrue,False\n",
    "def search_object(search, object):\n",
    "    return bool(re.search(search,object))\n",
    "# re.search(検索パターン, 検索対象)で該当すれば、matchしたオブジェクトを返す。https://note.nkmk.me/python-re-match-search-findall-etc/#search\n",
    "# ここでは、bool()を用いているので、re.search()でマッチすればTrue、NoneであればFalseを返す。\n",
    "\n",
    "# 最後の数字列を取りだす\n",
    "def lastnum(x):\n",
    "    nums = re.findall('[0-9]+', x)\n",
    "    \n",
    "    if nums:\n",
    "        return nums[-1]\n",
    "    else:\n",
    "        # 数字が見つからない場合の処理。0を返す。\n",
    "        return 0\n",
    "\n",
    "# 文字+数字 → 数字\n",
    "def get_objnum(x):\n",
    "    return re.search(r'([A-Z]?)([0-9]+)',x).group()  # re.search()でマッチしたオブジェクトに対して、.group()でオブジェクトのテキストデータのみ出力\n",
    "\n",
    "# 「地下」という文字列が入っていればその階数、入っていなければ0\n",
    "def underground(x):\n",
    "    return search_object('地下',x)*objnumobj_num(x)+(1-search_object('地下',x))*'0'\n",
    "\n",
    "def list_min(x):\n",
    "    lists = re.findall(r'\\w?\\d+', x)\n",
    "    converted_list = []\n",
    "    \n",
    "    for item in lists:\n",
    "        if item.startswith('B'):\n",
    "            converted_item = int(item.replace('B', '-'))\n",
    "        else:\n",
    "            converted_item = int(item)\n",
    "        \n",
    "        converted_list.append(converted_item)\n",
    "        \n",
    "    return min(converted_list)"
   ]
  },
  {
   "cell_type": "code",
   "execution_count": 35,
   "metadata": {},
   "outputs": [],
   "source": [
    "\n",
    "data_list = []\n",
    "\n",
    "# suumoサイトで東京都港区の賃貸物件を検索\n",
    "url = 'https://suumo.jp/jj/chintai/ichiran/FR301FC001/?ar=030&bs=040&ta=13&sc=13103&cb=0.0&ct=9999999&mb=0&mt=9999999&et=9999999&cn=9999999&shkr1=03&shkr2=03&shkr3=03&shkr4=03&sngz=&po1=25&pc=50&page={}'\n",
    "# pc=○○の所で一度に表示する件数を設定。pc=30では約20min、pc=50では約8min。\n",
    "\n",
    "# スクレイピングページ数の指定\n",
    "max_page = 200\n",
    "\n",
    "# 1-指定ページまでをスクレイピング\n",
    "for i in range(1, max_page + 1):\n",
    "\n",
    "    target_url = url.format(i)\n",
    "    res = requests.get(target_url)\n",
    "    res.encoding = 'utf-8'\n",
    "\n",
    "    # スクレイピング先のサーバー負荷軽減の為、1ページ情報を取得後に1秒のディレイ\n",
    "    sleep(1)\n",
    "\n",
    "    soup = BeautifulSoup(res.text, 'html.parser')\n",
    "\n",
    "    # 物件情報の取得\n",
    "    contents = soup.find_all('div',class_= 'cassetteitem')\n",
    "\n",
    "    # 1物件ずつ情報の取得\n",
    "    for content in contents:\n",
    "        \n",
    "        # 物件名、住所、アクセス、築年数、階建 情報ブロック\n",
    "        detail = content.find('div',class_='cassetteitem-detail')\n",
    "        # 階数、賃料、管理費、敷金、礼金、間取り、面積 情報ブロック\n",
    "        table = content.find('table', class_='cassetteitem_other')\n",
    "\n",
    "        # 物件名、住所、アクセス、築年数、階建の取得\n",
    "        title = content.find('div', class_= 'cassetteitem_content-title').text\n",
    "        address = content.find('li', class_= 'cassetteitem_detail-col1').text\n",
    "        access_1 = content.find('li', class_= 'cassetteitem_detail-col2').find_all()[0].text\n",
    "        access_2 = content.find('li', class_= 'cassetteitem_detail-col2').find_all()[1].text\n",
    "        access_3 = content.find('li', class_= 'cassetteitem_detail-col2').find_all()[2].text\n",
    "        age = content.find('li', class_= 'cassetteitem_detail-col3').find_all('div')[0].text\n",
    "        story = content.find('li', class_= 'cassetteitem_detail-col3').find_all('div')[1].text\n",
    "\n",
    "        # テーブルの行情報の取得\n",
    "        tr_tags = table.find_all('tr',class_='js-cassette_link')\n",
    "\n",
    "        # リスト1列毎に階数、賃料、管理費、敷金、礼金、間取り、面積の取得\n",
    "        for tr_tag in tr_tags:\n",
    "            floor, price, first_fee, capacity = tr_tag.find_all('td')[2:6]\n",
    "\n",
    "            fee, management_fee = price.find_all('li')\n",
    "            deposit, gratuity = first_fee.find_all('li')\n",
    "            madori, menseki = capacity.find_all('li')\n",
    "\n",
    "            # 取得した情報を辞書に格納\n",
    "            data = {\n",
    "                'title':title,\n",
    "                'address':address,\n",
    "                'access_1':access_1,\n",
    "                'access_2':access_2,\n",
    "                'access_3':access_3,\n",
    "                'age':age,\n",
    "                'story':story,\n",
    "                'floor':floor.text,\n",
    "                'fee':fee.text,\n",
    "                'management_fee':management_fee.text,\n",
    "                'deposit':deposit.text,\n",
    "                'gratuity':gratuity.text,\n",
    "                'madori':madori.text,\n",
    "                'menseki':menseki.text\n",
    "            }\n",
    "\n",
    "            data_list.append(data)\n",
    "\n",
    "# データフレームを作成する\n",
    "df = pd.DataFrame(data_list)\n",
    "\n",
    "# カラム名の変更\n",
    "df.columns = ['物件名', '住所', 'アクセス1', 'アクセス2', 'アクセス3', '築年数', '階建', '階数', '賃料', '管理費', '敷金', '礼金', '間取り', '面積']"
   ]
  },
  {
   "cell_type": "code",
   "execution_count": 36,
   "metadata": {},
   "outputs": [],
   "source": [
    "# データのクレンジング\n",
    "\n",
    "# 築年数\n",
    "df.loc[df['築年数']=='新築','築年数'] = '築0年'                              # 新築は築0年。\n",
    "                                                                            # df.loc[df['築年数']=='新築']は、'築年数'カラムの値が'新築'のものを抽出。\n",
    "                                                                            # df.loc[df['築年数']=='新築','築年数']は抽出したデータフレームから、'築年数'カラムのデータを抽出したもの。ここでは、シリーズ形式。['築年数']であればデータフレーム形式。https://qiita.com/Tusnori/items/31746dd1c55ecff2bb22\n",
    "df['築年数'] = df['築年数'].map(lambda x: objnumobj_num(x)).astype(int)     # 築5年 → 5、int型に変更"
   ]
  },
  {
   "cell_type": "code",
   "execution_count": 37,
   "metadata": {},
   "outputs": [],
   "source": [
    "# 階建\n",
    "df.loc[df['階数']=='平屋', '階数'] = '1階建'\n",
    "df['地下'] = df['階建'].map(lambda x: underground(x)).astype(int)\n",
    "df['地上'] = df['階建'].map(lambda x: lastnum(x)).astype(int)\n",
    "df['階建'] = df['地上'] + df['地下']"
   ]
  },
  {
   "cell_type": "code",
   "execution_count": 38,
   "metadata": {},
   "outputs": [],
   "source": [
    "# 階数\n",
    "df['階数'] = df['階数'].str.strip()\n",
    "df.loc[df['階数']=='-','階数'] = '1階'\n",
    "df['階数'] = df['階数'].map(lambda x: numobj_num(x))\n",
    "df['階数'] = df['階数'].map(lambda x: list_min(x))"
   ]
  },
  {
   "cell_type": "code",
   "execution_count": 39,
   "metadata": {},
   "outputs": [],
   "source": [
    "# 賃料\n",
    "df['賃料'] = df['賃料'].map(lambda x: drop_man(x)).astype(float)            # 5万 → 5、float型に変更"
   ]
  },
  {
   "cell_type": "code",
   "execution_count": 40,
   "metadata": {},
   "outputs": [],
   "source": [
    "# 管理費\n",
    "df.loc[df['管理費']=='-','管理費'] = '0円'                                  # '-' → '0円'\n",
    "df['管理費'] = df['管理費'].map(lambda x:numobj_num(x)).astype(int)         # 5円 → 5、int型に変更"
   ]
  },
  {
   "cell_type": "code",
   "execution_count": 41,
   "metadata": {},
   "outputs": [],
   "source": [
    "# 敷金\n",
    "df.loc[df['敷金']=='-','敷金'] = '0万円'                                    # '-' → '0万円'\n",
    "df['敷金'] = df['敷金'].map(lambda x: drop_man(x)).astype(float)            # 5万円 → 5、float型に変更"
   ]
  },
  {
   "cell_type": "code",
   "execution_count": 42,
   "metadata": {},
   "outputs": [],
   "source": [
    "# 礼金\n",
    "df.loc[df['礼金']=='-','礼金'] = '0万円'                                    # '-' → '0万円'\n",
    "df['礼金'] = df['礼金'].map(lambda x: drop_man(x)).astype(float)            # 5万円 → 5、float型に変更"
   ]
  },
  {
   "cell_type": "code",
   "execution_count": 43,
   "metadata": {},
   "outputs": [],
   "source": [
    "# 間取り\n",
    "df.loc[df['間取り']=='ワンルーム','間取り'] = '1'                            # 'ワンルーム' → '1'   間取りのSはサービスルーム\n",
    "df['間取り_部屋数'] = df['間取り'].map(lambda x:numobj_num(x)).astype(int)"
   ]
  },
  {
   "cell_type": "code",
   "execution_count": 44,
   "metadata": {},
   "outputs": [],
   "source": [
    "# 面積\n",
    "df['面積'] = df['面積'].map(lambda x: drop_behind_alfa(x)).astype(float)    # 5m2 → 5"
   ]
  },
  {
   "cell_type": "code",
   "execution_count": 58,
   "metadata": {},
   "outputs": [],
   "source": [
    "df = df.sort_values('物件名')"
   ]
  },
  {
   "cell_type": "code",
   "execution_count": 59,
   "metadata": {},
   "outputs": [],
   "source": [
    "# df['階数'].sort_values().unique()"
   ]
  },
  {
   "cell_type": "code",
   "execution_count": 60,
   "metadata": {},
   "outputs": [],
   "source": [
    "df.head()\n",
    "df1 = df.drop_duplicates(subset=['物件名'                                                                                   ],keep='first')\n",
    "df2 = df.drop_duplicates(subset=['物件名', '住所'                                                                           ],keep='first')\n",
    "df3 = df.drop_duplicates(subset=['物件名', '住所',                          '賃料', '管理費', '敷金', '礼金', '間取り', '面積'],keep='first')\n",
    "df4 = df.drop_duplicates(subset=['物件名', '住所', '築年数', '階建', '階数', '賃料', '管理費', '敷金', '礼金', '間取り', '面積'],keep='first')\n",
    "df5 = df.drop_duplicates(subset=[                  '築年数', '階建', '階数', '賃料', '管理費', '敷金', '礼金', '間取り', '面積'],keep='first')"
   ]
  },
  {
   "cell_type": "code",
   "execution_count": 61,
   "metadata": {},
   "outputs": [
    {
     "name": "stdout",
     "output_type": "stream",
     "text": [
      "df : 9625\n",
      "df1: 3381\n",
      "df2: 3504\n",
      "df3: 8646\n",
      "df4: 8916\n",
      "df5: 6447\n"
     ]
    }
   ],
   "source": [
    "print('df :',len(df))\n",
    "print('df1:',len(df1))\n",
    "print('df2:',len(df2))\n",
    "print('df3:',len(df3))\n",
    "print('df4:',len(df4))\n",
    "print('df5:',len(df5))"
   ]
  },
  {
   "cell_type": "code",
   "execution_count": 62,
   "metadata": {},
   "outputs": [
    {
     "name": "stderr",
     "output_type": "stream",
     "text": [
      "C:\\Users\\yuki_yamakawa\\AppData\\Local\\Temp\\ipykernel_45956\\1753189510.py:5: DeprecationWarning: [Deprecated][in version 6.0.0]: Method signature's arguments 'range_name' and 'values' will change their order. We recommend using named arguments for minimal impact. In addition, the argument 'values' will be mandatory of type: 'List[List]'. (ex) Worksheet.update(values = [[]], range_name=) \n",
      "  worksheet.update(\"A1\", values)\n"
     ]
    },
    {
     "data": {
      "text/plain": [
       "{'spreadsheetId': '1RN3MBSM-864r1Me1hdgOZmWzXY0NLMJsb7O6FBogg6k',\n",
       " 'updatedRange': \"'シート1'!A1:Q6448\",\n",
       " 'updatedRows': 6448,\n",
       " 'updatedColumns': 17,\n",
       " 'updatedCells': 109616}"
      ]
     },
     "execution_count": 62,
     "metadata": {},
     "output_type": "execute_result"
    }
   ],
   "source": [
    "# dfから値を習得\n",
    "values = [df5.columns.values.tolist()] + df5.values.tolist()\n",
    "\n",
    "# スプレッドシートにデータを追加\n",
    "worksheet.update(\"A1\", values)"
   ]
  },
  {
   "cell_type": "code",
   "execution_count": null,
   "metadata": {},
   "outputs": [],
   "source": []
  }
 ],
 "metadata": {
  "kernelspec": {
   "display_name": "Python 3",
   "language": "python",
   "name": "python3"
  },
  "language_info": {
   "codemirror_mode": {
    "name": "ipython",
    "version": 3
   },
   "file_extension": ".py",
   "mimetype": "text/x-python",
   "name": "python",
   "nbconvert_exporter": "python",
   "pygments_lexer": "ipython3",
   "version": "3.11.4"
  }
 },
 "nbformat": 4,
 "nbformat_minor": 2
}
